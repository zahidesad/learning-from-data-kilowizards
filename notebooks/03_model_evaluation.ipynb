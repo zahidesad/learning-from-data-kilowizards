{
 "cells": [
  {
   "cell_type": "code",
   "id": "initial_id",
   "metadata": {
    "collapsed": true,
    "ExecuteTime": {
     "end_time": "2025-01-14T21:49:14.727381Z",
     "start_time": "2025-01-14T21:49:10.495010Z"
    }
   },
   "source": [
    "import pandas as pd\n",
    "from src.features.selectors import xgb_feature_importance_selector\n",
    "df = pd.read_csv(\"merged_agri_df.csv\")\n",
    "\n",
    "feature_importances = xgb_feature_importance_selector(df, target_col='Smf')\n",
    "\n",
    "print(feature_importances)"
   ],
   "outputs": [
    {
     "name": "stdout",
     "output_type": "stream",
     "text": [
      "             Feature  Importance\n",
      "28               Ptf    0.807414\n",
      "11     Arzislemhacmi    0.071062\n",
      "33          Smfdolar    0.055812\n",
      "34           Smfeuro    0.020442\n",
      "5      Maxalisfiyati    0.016004\n",
      "..               ...         ...\n",
      "24  Gerceklesennafta    0.000000\n",
      "25    Gerceklesenlng    0.000000\n",
      "43               pod    0.000000\n",
      "46   revision_status    0.000000\n",
      "53     timestamp_utc    0.000000\n",
      "\n",
      "[61 rows x 2 columns]\n"
     ]
    }
   ],
   "execution_count": 2
  },
  {
   "metadata": {
    "ExecuteTime": {
     "end_time": "2025-01-14T21:39:26.764484Z",
     "start_time": "2025-01-14T21:39:06.552513Z"
    }
   },
   "cell_type": "code",
   "source": [
    "from statsmodels.tsa.arima.model import ARIMA\n",
    "\n",
    "# Veri setinde 'ptf' özelliği ile zaman serisi başlatma\n",
    "data = df[['Ptf', 'Smf']].dropna()\n",
    "\n",
    "# Zaman serisi olarak hedef değişkeni al\n",
    "target_series = data['Smf']\n",
    "\n",
    "# ARIMA modeli tanımlama ve eğitme (örnek olarak (1, 1, 1) kullanıldı)\n",
    "arima_order = (1, 1, 1)\n",
    "arima_model = ARIMA(target_series, order=arima_order)\n",
    "arima_result = arima_model.fit()\n",
    "\n",
    "# Modelin bir özetini yazdır\n",
    "print(arima_result.summary())\n",
    "\n",
    "# Tahmin yapma\n",
    "forecast_steps = 10\n",
    "forecast = arima_result.forecast(steps=forecast_steps)\n",
    "print(\"Tahmin:\", forecast)\n"
   ],
   "id": "590884d08066efe7",
   "outputs": [
    {
     "name": "stdout",
     "output_type": "stream",
     "text": [
      "                               SARIMAX Results                                \n",
      "==============================================================================\n",
      "Dep. Variable:                    Smf   No. Observations:                40796\n",
      "Model:                 ARIMA(1, 1, 1)   Log Likelihood             -289524.817\n",
      "Date:                Wed, 15 Jan 2025   AIC                         579055.635\n",
      "Time:                        00:39:16   BIC                         579081.483\n",
      "Sample:                             0   HQIC                        579063.809\n",
      "                              - 40796                                         \n",
      "Covariance Type:                  opg                                         \n",
      "==============================================================================\n",
      "                 coef    std err          z      P>|z|      [0.025      0.975]\n",
      "------------------------------------------------------------------------------\n",
      "ar.L1          0.7817      0.002    484.988      0.000       0.779       0.785\n",
      "ma.L1         -0.9903      0.000  -2717.644      0.000      -0.991      -0.990\n",
      "sigma2       8.55e+04    211.205    404.796      0.000    8.51e+04    8.59e+04\n",
      "===================================================================================\n",
      "Ljung-Box (L1) (Q):                  78.99   Jarque-Bera (JB):            488689.56\n",
      "Prob(Q):                              0.00   Prob(JB):                         0.00\n",
      "Heteroskedasticity (H):              85.39   Skew:                            -0.21\n",
      "Prob(H) (two-sided):                  0.00   Kurtosis:                        19.95\n",
      "===================================================================================\n",
      "\n",
      "Warnings:\n",
      "[1] Covariance matrix calculated using the outer product of gradients (complex-step).\n",
      "Tahmin: 40796    2481.602004\n",
      "40797    2389.044758\n",
      "40798    2316.688434\n",
      "40799    2260.124114\n",
      "40800    2215.905143\n",
      "40801    2181.337107\n",
      "40802    2154.313658\n",
      "40803    2133.188165\n",
      "40804    2116.673380\n",
      "40805    2103.763001\n",
      "Name: predicted_mean, dtype: float64\n"
     ]
    }
   ],
   "execution_count": 6
  },
  {
   "metadata": {},
   "cell_type": "code",
   "outputs": [],
   "execution_count": null,
   "source": "",
   "id": "3818bf3d455c8922"
  }
 ],
 "metadata": {
  "kernelspec": {
   "display_name": "Python 3",
   "language": "python",
   "name": "python3"
  },
  "language_info": {
   "codemirror_mode": {
    "name": "ipython",
    "version": 2
   },
   "file_extension": ".py",
   "mimetype": "text/x-python",
   "name": "python",
   "nbconvert_exporter": "python",
   "pygments_lexer": "ipython2",
   "version": "2.7.6"
  }
 },
 "nbformat": 4,
 "nbformat_minor": 5
}
