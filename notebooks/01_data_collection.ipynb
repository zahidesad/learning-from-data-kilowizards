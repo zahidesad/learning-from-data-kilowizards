{
 "cells": [
  {
   "metadata": {
    "ExecuteTime": {
     "end_time": "2025-01-12T21:23:22.492457Z",
     "start_time": "2025-01-12T21:23:21.662352Z"
    }
   },
   "cell_type": "code",
   "source": [
    "import pandas as pd\n",
    "from src.data.collectors import EPIASCollector, WeatherBitCollector\n",
    "import os\n",
    "from dotenv import load_dotenv\n",
    "\n",
    "load_dotenv()"
   ],
   "id": "2cd433d6cf223cec",
   "outputs": [
    {
     "data": {
      "text/plain": [
       "True"
      ]
     },
     "execution_count": 1,
     "metadata": {},
     "output_type": "execute_result"
    }
   ],
   "execution_count": 1
  },
  {
   "metadata": {
    "ExecuteTime": {
     "end_time": "2025-01-12T21:23:22.504481Z",
     "start_time": "2025-01-12T21:23:22.498322Z"
    }
   },
   "cell_type": "code",
   "source": [
    "def test_local_csv_load():\n",
    "    \"\"\"\n",
    "    Yerel CSV'nin varlığını ve DataFrame'in boş olmadığını test eder.\n",
    "    Ayrıca beklenen kolonlardan bazılarını kontrol eder.\n",
    "    \"\"\"\n",
    "    print(\"=== test_local_csv_load ===\")\n",
    "    try:\n",
    "        collector = EPIASCollector(local_csv_path=\"C:/Users/zahid/ProgrammingForDataEngineering/learning-from-data-kilowizards/src/data/smfdb.csv\")\n",
    "        df = collector.get_data(use_local=True)\n",
    "        print(f\"DataFrame shape: {df.shape}\")\n",
    "\n",
    "        # Kolon testleri\n",
    "        required_cols = [\"Tarih\", \"Dolar\", \"Euro\", \"Smf\"]\n",
    "        missing = [c for c in required_cols if c not in df.columns]\n",
    "        if missing:\n",
    "            print(\"Eksik kolon(lar) var:\", missing)\n",
    "        else:\n",
    "            print(\"Tüm gerekli kolonlar mevcut:\", required_cols)\n",
    "\n",
    "        # DataFrame boş mu?\n",
    "        if df.empty:\n",
    "            print(\"HATA: DataFrame boş döndü!\")\n",
    "        else:\n",
    "            print(\"Yerel CSV veri yükleme testi BAŞARILI.\")\n",
    "        return df\n",
    "    except Exception as e:\n",
    "        print(\"Hata:\", e)\n",
    "        return pd.DataFrame()\n"
   ],
   "id": "6380c7241daddccb",
   "outputs": [],
   "execution_count": 2
  },
  {
   "metadata": {
    "ExecuteTime": {
     "end_time": "2025-01-12T21:23:22.693638Z",
     "start_time": "2025-01-12T21:23:22.686968Z"
    }
   },
   "cell_type": "code",
   "source": [
    "def test_weatherbit():\n",
    "    \"\"\"\n",
    "    WeatherBit'ten 1 aylık veri çekme testidir.\n",
    "    \"\"\"\n",
    "    api_key = os.getenv(\"WEATHERBIT_API_KEY\")\n",
    "    print(\"\\n=== test_weatherbit ===\")\n",
    "    try:\n",
    "        w_collector = WeatherBitCollector(api_key=api_key, lat=41.015137, lon=28.979530)\n",
    "        df_weather = w_collector.fetch_year_data(year=2019, month=1)\n",
    "        print(f\"WeatherBit df shape: {df_weather.shape}\")\n",
    "        if df_weather.empty:\n",
    "            print(\"HATA: WeatherBit'ten data boş döndü (API key veya tarih hatalı olabilir).\")\n",
    "        else:\n",
    "            print(\"WeatherBit veri çekme testi BAŞARILI.\")\n",
    "        return df_weather\n",
    "    except Exception as e:\n",
    "        print(\"Hata:\", e)\n",
    "        return pd.DataFrame()"
   ],
   "id": "e3c8c79696e5b877",
   "outputs": [],
   "execution_count": 3
  },
  {
   "metadata": {
    "ExecuteTime": {
     "end_time": "2025-01-12T21:23:22.703494Z",
     "start_time": "2025-01-12T21:23:22.699880Z"
    }
   },
   "cell_type": "code",
   "source": [
    "# Şimdi bu iki fonksiyonu çalıştıralım:\n",
    "#df_local = test_local_csv_load()\n",
    "\n",
    "# Örnek: Local DF ve Weather DF incelemesi\n",
    "#(\"\\nYerel DF ilk 3 satır:\")\n",
    "#display(df_local.head(3))"
   ],
   "id": "b997fba94e83fc5a",
   "outputs": [],
   "execution_count": 4
  },
  {
   "metadata": {
    "ExecuteTime": {
     "end_time": "2025-01-12T21:23:50.471550Z",
     "start_time": "2025-01-12T21:23:22.712783Z"
    }
   },
   "cell_type": "code",
   "source": [
    "api_key = os.getenv(\"WEATHERBIT_API_KEY\")\n",
    "w_collector = WeatherBitCollector(api_key=api_key, lat=41.015137, lon=28.979530)\n",
    "\n",
    "merged_data = w_collector.fetch_data_in_chunks(\n",
    "    start_date=\"2019-01-01\",\n",
    "    end_date=\"2023-02-27\"\n",
    ")\n",
    "\n",
    "print(\"\\nWeather DF ilk 3 satır:\")\n",
    "print(merged_data.columns)\n",
    "display(merged_data)"
   ],
   "id": "96881a83fa643e11",
   "outputs": [
    {
     "name": "stdout",
     "output_type": "stream",
     "text": [
      "Fetching data from 2019-01-01 to 2019-01-31...\n",
      "Fetching data from 2019-02-01 to 2019-03-03...\n",
      "Fetching data from 2019-03-04 to 2019-04-03...\n",
      "Fetching data from 2019-04-04 to 2019-05-04...\n",
      "Fetching data from 2019-05-05 to 2019-06-04...\n",
      "Fetching data from 2019-06-05 to 2019-07-05...\n",
      "Fetching data from 2019-07-06 to 2019-08-05...\n",
      "Fetching data from 2019-08-06 to 2019-09-05...\n",
      "Fetching data from 2019-09-06 to 2019-10-06...\n",
      "Fetching data from 2019-10-07 to 2019-11-06...\n",
      "Fetching data from 2019-11-07 to 2019-12-07...\n",
      "Fetching data from 2019-12-08 to 2020-01-07...\n",
      "Fetching data from 2020-01-08 to 2020-02-07...\n",
      "Fetching data from 2020-02-08 to 2020-03-09...\n",
      "Fetching data from 2020-03-10 to 2020-04-09...\n",
      "Fetching data from 2020-04-10 to 2020-05-10...\n",
      "Fetching data from 2020-05-11 to 2020-06-10...\n",
      "Fetching data from 2020-06-11 to 2020-07-11...\n",
      "Fetching data from 2020-07-12 to 2020-08-11...\n",
      "Fetching data from 2020-08-12 to 2020-09-11...\n",
      "Fetching data from 2020-09-12 to 2020-10-12...\n",
      "Fetching data from 2020-10-13 to 2020-11-12...\n",
      "Fetching data from 2020-11-13 to 2020-12-13...\n"
     ]
    },
    {
     "ename": "ConnectionError",
     "evalue": "WeatherBit isteğinde hata: 429 - {\"status_code\":429,\"status_message\":\"Your request count (1509) is over the allowed limit of 1500 per day - Upgrade your key, or retry after 156.15 minutes\"}\n",
     "output_type": "error",
     "traceback": [
      "\u001B[1;31m---------------------------------------------------------------------------\u001B[0m",
      "\u001B[1;31mConnectionError\u001B[0m                           Traceback (most recent call last)",
      "Cell \u001B[1;32mIn[5], line 4\u001B[0m\n\u001B[0;32m      1\u001B[0m api_key \u001B[38;5;241m=\u001B[39m os\u001B[38;5;241m.\u001B[39mgetenv(\u001B[38;5;124m\"\u001B[39m\u001B[38;5;124mWEATHERBIT_API_KEY\u001B[39m\u001B[38;5;124m\"\u001B[39m)\n\u001B[0;32m      2\u001B[0m w_collector \u001B[38;5;241m=\u001B[39m WeatherBitCollector(api_key\u001B[38;5;241m=\u001B[39mapi_key, lat\u001B[38;5;241m=\u001B[39m\u001B[38;5;241m41.015137\u001B[39m, lon\u001B[38;5;241m=\u001B[39m\u001B[38;5;241m28.979530\u001B[39m)\n\u001B[1;32m----> 4\u001B[0m merged_data \u001B[38;5;241m=\u001B[39m \u001B[43mw_collector\u001B[49m\u001B[38;5;241;43m.\u001B[39;49m\u001B[43mfetch_data_in_chunks\u001B[49m\u001B[43m(\u001B[49m\n\u001B[0;32m      5\u001B[0m \u001B[43m    \u001B[49m\u001B[43mstart_date\u001B[49m\u001B[38;5;241;43m=\u001B[39;49m\u001B[38;5;124;43m\"\u001B[39;49m\u001B[38;5;124;43m2019-01-01\u001B[39;49m\u001B[38;5;124;43m\"\u001B[39;49m\u001B[43m,\u001B[49m\n\u001B[0;32m      6\u001B[0m \u001B[43m    \u001B[49m\u001B[43mend_date\u001B[49m\u001B[38;5;241;43m=\u001B[39;49m\u001B[38;5;124;43m\"\u001B[39;49m\u001B[38;5;124;43m2023-02-27\u001B[39;49m\u001B[38;5;124;43m\"\u001B[39;49m\n\u001B[0;32m      7\u001B[0m \u001B[43m)\u001B[49m\n\u001B[0;32m      9\u001B[0m \u001B[38;5;28mprint\u001B[39m(\u001B[38;5;124m\"\u001B[39m\u001B[38;5;130;01m\\n\u001B[39;00m\u001B[38;5;124mWeather DF ilk 3 satır:\u001B[39m\u001B[38;5;124m\"\u001B[39m)\n\u001B[0;32m     10\u001B[0m \u001B[38;5;28mprint\u001B[39m(merged_data\u001B[38;5;241m.\u001B[39mcolumns)\n",
      "File \u001B[1;32m~\\Documents\\Projects\\python\\learning-from-data-kilowizards\\src\\data\\collectors.py:153\u001B[0m, in \u001B[0;36mWeatherBitCollector.fetch_data_in_chunks\u001B[1;34m(self, start_date, end_date, freq)\u001B[0m\n\u001B[0;32m    151\u001B[0m \u001B[38;5;66;03m# Fetch (API'den veri çekme)\u001B[39;00m\n\u001B[0;32m    152\u001B[0m \u001B[38;5;28mprint\u001B[39m(\u001B[38;5;124mf\u001B[39m\u001B[38;5;124m\"\u001B[39m\u001B[38;5;124mFetching data from \u001B[39m\u001B[38;5;132;01m{\u001B[39;00mchunk_start\u001B[38;5;241m.\u001B[39mdate()\u001B[38;5;132;01m}\u001B[39;00m\u001B[38;5;124m to \u001B[39m\u001B[38;5;132;01m{\u001B[39;00mchunk_end\u001B[38;5;241m.\u001B[39mdate()\u001B[38;5;132;01m}\u001B[39;00m\u001B[38;5;124m...\u001B[39m\u001B[38;5;124m\"\u001B[39m)\n\u001B[1;32m--> 153\u001B[0m chunk_data \u001B[38;5;241m=\u001B[39m \u001B[38;5;28;43mself\u001B[39;49m\u001B[38;5;241;43m.\u001B[39;49m\u001B[43mfetch_function\u001B[49m\u001B[43m(\u001B[49m\u001B[43mchunk_start\u001B[49m\u001B[43m,\u001B[49m\u001B[43m \u001B[49m\u001B[43mchunk_end\u001B[49m\u001B[43m)\u001B[49m\n\u001B[0;32m    155\u001B[0m \u001B[38;5;66;03m# Eğer veri boş değilse listeye ekle\u001B[39;00m\n\u001B[0;32m    156\u001B[0m \u001B[38;5;28;01mif\u001B[39;00m chunk_data \u001B[38;5;129;01mis\u001B[39;00m \u001B[38;5;129;01mnot\u001B[39;00m \u001B[38;5;28;01mNone\u001B[39;00m \u001B[38;5;129;01mand\u001B[39;00m \u001B[38;5;129;01mnot\u001B[39;00m chunk_data\u001B[38;5;241m.\u001B[39mempty:\n",
      "File \u001B[1;32m~\\Documents\\Projects\\python\\learning-from-data-kilowizards\\src\\data\\collectors.py:181\u001B[0m, in \u001B[0;36mWeatherBitCollector.fetch_function\u001B[1;34m(self, start_date, end_date)\u001B[0m\n\u001B[0;32m    179\u001B[0m resp \u001B[38;5;241m=\u001B[39m requests\u001B[38;5;241m.\u001B[39mget(\u001B[38;5;28mself\u001B[39m\u001B[38;5;241m.\u001B[39mbase_url, params\u001B[38;5;241m=\u001B[39mparams)\n\u001B[0;32m    180\u001B[0m \u001B[38;5;28;01mif\u001B[39;00m resp\u001B[38;5;241m.\u001B[39mstatus_code \u001B[38;5;241m!=\u001B[39m \u001B[38;5;241m200\u001B[39m:\n\u001B[1;32m--> 181\u001B[0m     \u001B[38;5;28;01mraise\u001B[39;00m \u001B[38;5;167;01mConnectionError\u001B[39;00m(\u001B[38;5;124mf\u001B[39m\u001B[38;5;124m\"\u001B[39m\u001B[38;5;124mWeatherBit isteğinde hata: \u001B[39m\u001B[38;5;132;01m{\u001B[39;00mresp\u001B[38;5;241m.\u001B[39mstatus_code\u001B[38;5;132;01m}\u001B[39;00m\u001B[38;5;124m - \u001B[39m\u001B[38;5;132;01m{\u001B[39;00mresp\u001B[38;5;241m.\u001B[39mtext\u001B[38;5;132;01m}\u001B[39;00m\u001B[38;5;124m\"\u001B[39m)\n\u001B[0;32m    183\u001B[0m data_json \u001B[38;5;241m=\u001B[39m resp\u001B[38;5;241m.\u001B[39mjson()\n\u001B[0;32m    184\u001B[0m \u001B[38;5;28;01mif\u001B[39;00m \u001B[38;5;124m\"\u001B[39m\u001B[38;5;124mdata\u001B[39m\u001B[38;5;124m\"\u001B[39m \u001B[38;5;129;01mnot\u001B[39;00m \u001B[38;5;129;01min\u001B[39;00m data_json:\n",
      "\u001B[1;31mConnectionError\u001B[0m: WeatherBit isteğinde hata: 429 - {\"status_code\":429,\"status_message\":\"Your request count (1509) is over the allowed limit of 1500 per day - Upgrade your key, or retry after 156.15 minutes\"}\n"
     ]
    }
   ],
   "execution_count": 5
  },
  {
   "metadata": {
    "ExecuteTime": {
     "end_time": "2025-01-12T21:23:50.474131400Z",
     "start_time": "2025-01-12T21:20:06.345744Z"
    }
   },
   "cell_type": "code",
   "source": "",
   "id": "dd9f63749c35c5fa",
   "outputs": [],
   "execution_count": null
  }
 ],
 "metadata": {
  "kernelspec": {
   "display_name": "Python 3",
   "language": "python",
   "name": "python3"
  },
  "language_info": {
   "codemirror_mode": {
    "name": "ipython",
    "version": 2
   },
   "file_extension": ".py",
   "mimetype": "text/x-python",
   "name": "python",
   "nbconvert_exporter": "python",
   "pygments_lexer": "ipython2",
   "version": "2.7.6"
  }
 },
 "nbformat": 4,
 "nbformat_minor": 5
}
