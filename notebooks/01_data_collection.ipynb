{
 "cells": [
  {
   "metadata": {
    "ExecuteTime": {
     "end_time": "2025-01-12T22:15:45.228023Z",
     "start_time": "2025-01-12T22:15:38.253836Z"
    }
   },
   "cell_type": "code",
   "source": [
    "import pandas as pd\n",
    "from src.data.collectors import EPIASCollector, WeatherBitCollector\n",
    "import os\n",
    "from dotenv import load_dotenv\n",
    "\n",
    "load_dotenv()"
   ],
   "id": "2cd433d6cf223cec",
   "outputs": [
    {
     "data": {
      "text/plain": [
       "True"
      ]
     },
     "execution_count": 1,
     "metadata": {},
     "output_type": "execute_result"
    }
   ],
   "execution_count": 1
  },
  {
   "metadata": {
    "ExecuteTime": {
     "end_time": "2025-01-12T22:15:45.432463Z",
     "start_time": "2025-01-12T22:15:45.362660Z"
    }
   },
   "cell_type": "code",
   "source": [
    "def test_local_csv_load():\n",
    "    \"\"\"\n",
    "    Yerel CSV'nin varlığını ve DataFrame'in boş olmadığını test eder.\n",
    "    Ayrıca beklenen kolonlardan bazılarını kontrol eder.\n",
    "    \"\"\"\n",
    "    print(\"=== test_local_csv_load ===\")\n",
    "    try:\n",
    "        collector = EPIASCollector(local_csv_path=\"C:/Users/zahid/ProgrammingForDataEngineering/learning-from-data-kilowizards/src/data/smfdb.csv\")\n",
    "        df = collector.get_data(use_local=True)\n",
    "        print(f\"DataFrame shape: {df.shape}\")\n",
    "\n",
    "        # Kolon testleri\n",
    "        required_cols = [\"Tarih\", \"Dolar\", \"Euro\", \"Smf\"]\n",
    "        missing = [c for c in required_cols if c not in df.columns]\n",
    "        if missing:\n",
    "            print(\"Eksik kolon(lar) var:\", missing)\n",
    "        else:\n",
    "            print(\"Tüm gerekli kolonlar mevcut:\", required_cols)\n",
    "\n",
    "        # DataFrame boş mu?\n",
    "        if df.empty:\n",
    "            print(\"HATA: DataFrame boş döndü!\")\n",
    "        else:\n",
    "            print(\"Yerel CSV veri yükleme testi BAŞARILI.\")\n",
    "        return df\n",
    "    except Exception as e:\n",
    "        print(\"Hata:\", e)\n",
    "        return pd.DataFrame()\n"
   ],
   "id": "6380c7241daddccb",
   "outputs": [],
   "execution_count": 2
  },
  {
   "metadata": {
    "ExecuteTime": {
     "end_time": "2025-01-12T22:15:49.047797Z",
     "start_time": "2025-01-12T22:15:49.011800Z"
    }
   },
   "cell_type": "code",
   "source": [
    "def test_weatherbit():\n",
    "    \"\"\"\n",
    "    WeatherBit'ten 1 aylık veri çekme testidir.\n",
    "    \"\"\"\n",
    "    api_key = os.getenv(\"WEATHERBIT_API_KEY\")\n",
    "    print(\"\\n=== test_weatherbit ===\")\n",
    "    try:\n",
    "        w_collector = WeatherBitCollector(api_key=api_key, lat=41.015137, lon=28.979530)\n",
    "        df_weather = w_collector.fetch_year_data(year=2019, month=1)\n",
    "        print(f\"WeatherBit df shape: {df_weather.shape}\")\n",
    "        if df_weather.empty:\n",
    "            print(\"HATA: WeatherBit'ten data boş döndü (API key veya tarih hatalı olabilir).\")\n",
    "        else:\n",
    "            print(\"WeatherBit veri çekme testi BAŞARILI.\")\n",
    "        return df_weather\n",
    "    except Exception as e:\n",
    "        print(\"Hata:\", e)\n",
    "        return pd.DataFrame()"
   ],
   "id": "e3c8c79696e5b877",
   "outputs": [],
   "execution_count": 3
  },
  {
   "metadata": {
    "ExecuteTime": {
     "end_time": "2025-01-12T22:15:49.197732Z",
     "start_time": "2025-01-12T22:15:49.148896Z"
    }
   },
   "cell_type": "code",
   "source": [
    "# Şimdi bu iki fonksiyonu çalıştıralım:\n",
    "#df_local = test_local_csv_load()\n",
    "\n",
    "# Örnek: Local DF ve Weather DF incelemesi\n",
    "#(\"\\nYerel DF ilk 3 satır:\")\n",
    "#display(df_local.head(3))"
   ],
   "id": "b997fba94e83fc5a",
   "outputs": [],
   "execution_count": 4
  },
  {
   "metadata": {
    "ExecuteTime": {
     "end_time": "2025-01-12T22:17:38.171670Z",
     "start_time": "2025-01-12T22:15:49.522004Z"
    }
   },
   "cell_type": "code",
   "source": [
    "api_key = os.getenv(\"WEATHERBIT_API_KEY\")\n",
    "w_collector = WeatherBitCollector(api_key=api_key, lat=41.015137, lon=28.979530)\n",
    "\n",
    "merged_data = w_collector.fetch_data_in_chunks(\n",
    "    start_date=\"2019-05-04\",\n",
    "    end_date=\"2021-01-01\"\n",
    ")\n",
    "\n",
    "print(\"\\nWeather DF ilk 3 satır:\")\n",
    "print(merged_data.columns)\n",
    "display(merged_data)"
   ],
   "id": "96881a83fa643e11",
   "outputs": [
    {
     "name": "stdout",
     "output_type": "stream",
     "text": [
      "Fetching data from 2019-05-04 to 2019-06-03...\n",
      "Fetching data from 2019-06-04 to 2019-07-04...\n",
      "Fetching data from 2019-07-05 to 2019-08-04...\n",
      "Fetching data from 2019-08-05 to 2019-09-04...\n",
      "Fetching data from 2019-09-05 to 2019-10-05...\n",
      "Fetching data from 2019-10-06 to 2019-11-05...\n",
      "Fetching data from 2019-11-06 to 2019-12-06...\n",
      "Fetching data from 2019-12-07 to 2020-01-06...\n",
      "Fetching data from 2020-01-07 to 2020-02-06...\n",
      "Fetching data from 2020-02-07 to 2020-03-08...\n",
      "Fetching data from 2020-03-09 to 2020-04-08...\n",
      "Fetching data from 2020-04-09 to 2020-05-09...\n",
      "Fetching data from 2020-05-10 to 2020-06-09...\n",
      "Fetching data from 2020-06-10 to 2020-07-10...\n",
      "Fetching data from 2020-07-11 to 2020-08-10...\n",
      "Fetching data from 2020-08-11 to 2020-09-10...\n",
      "Fetching data from 2020-09-11 to 2020-10-11...\n",
      "Fetching data from 2020-10-12 to 2020-11-11...\n",
      "Fetching data from 2020-11-12 to 2020-12-12...\n",
      "Fetching data from 2020-12-13 to 2021-01-01...\n"
     ]
    },
    {
     "ename": "ValueError",
     "evalue": "The truth value of a DataFrame is ambiguous. Use a.empty, a.bool(), a.item(), a.any() or a.all().",
     "output_type": "error",
     "traceback": [
      "\u001B[1;31m---------------------------------------------------------------------------\u001B[0m",
      "\u001B[1;31mValueError\u001B[0m                                Traceback (most recent call last)",
      "\u001B[1;32m~\\AppData\\Local\\Temp\\ipykernel_9792\\3832374831.py\u001B[0m in \u001B[0;36m?\u001B[1;34m()\u001B[0m\n\u001B[0;32m      1\u001B[0m \u001B[0mapi_key\u001B[0m \u001B[1;33m=\u001B[0m \u001B[0mos\u001B[0m\u001B[1;33m.\u001B[0m\u001B[0mgetenv\u001B[0m\u001B[1;33m(\u001B[0m\u001B[1;34m\"WEATHERBIT_API_KEY\"\u001B[0m\u001B[1;33m)\u001B[0m\u001B[1;33m\u001B[0m\u001B[1;33m\u001B[0m\u001B[0m\n\u001B[0;32m      2\u001B[0m \u001B[0mw_collector\u001B[0m \u001B[1;33m=\u001B[0m \u001B[0mWeatherBitCollector\u001B[0m\u001B[1;33m(\u001B[0m\u001B[0mapi_key\u001B[0m\u001B[1;33m=\u001B[0m\u001B[0mapi_key\u001B[0m\u001B[1;33m,\u001B[0m \u001B[0mlat\u001B[0m\u001B[1;33m=\u001B[0m\u001B[1;36m41.015137\u001B[0m\u001B[1;33m,\u001B[0m \u001B[0mlon\u001B[0m\u001B[1;33m=\u001B[0m\u001B[1;36m28.979530\u001B[0m\u001B[1;33m)\u001B[0m\u001B[1;33m\u001B[0m\u001B[1;33m\u001B[0m\u001B[0m\n\u001B[0;32m      3\u001B[0m \u001B[1;33m\u001B[0m\u001B[0m\n\u001B[1;32m----> 4\u001B[1;33m merged_data = w_collector.fetch_data_in_chunks(\n\u001B[0m\u001B[0;32m      5\u001B[0m     \u001B[0mstart_date\u001B[0m\u001B[1;33m=\u001B[0m\u001B[1;34m\"2019-05-04\"\u001B[0m\u001B[1;33m,\u001B[0m\u001B[1;33m\u001B[0m\u001B[1;33m\u001B[0m\u001B[0m\n\u001B[0;32m      6\u001B[0m     \u001B[0mend_date\u001B[0m\u001B[1;33m=\u001B[0m\u001B[1;34m\"2021-01-01\"\u001B[0m\u001B[1;33m\u001B[0m\u001B[1;33m\u001B[0m\u001B[0m\n\u001B[0;32m      7\u001B[0m \u001B[1;33m)\u001B[0m\u001B[1;33m\u001B[0m\u001B[1;33m\u001B[0m\u001B[0m\n",
      "\u001B[1;32m~\\ProgrammingForDataEngineering\\learning-from-data-kilowizards\\src\\data\\collectors.py\u001B[0m in \u001B[0;36m?\u001B[1;34m(self, start_date, end_date, freq)\u001B[0m\n\u001B[0;32m    165\u001B[0m             \u001B[1;31m# Bir sonraki parçaya git\u001B[0m\u001B[1;33m\u001B[0m\u001B[1;33m\u001B[0m\u001B[0m\n\u001B[0;32m    166\u001B[0m             \u001B[0mchunk_start\u001B[0m \u001B[1;33m=\u001B[0m \u001B[0mchunk_end\u001B[0m \u001B[1;33m+\u001B[0m \u001B[0mtimedelta\u001B[0m\u001B[1;33m(\u001B[0m\u001B[0mdays\u001B[0m\u001B[1;33m=\u001B[0m\u001B[1;36m1\u001B[0m\u001B[1;33m)\u001B[0m\u001B[1;33m\u001B[0m\u001B[1;33m\u001B[0m\u001B[0m\n\u001B[0;32m    167\u001B[0m \u001B[1;33m\u001B[0m\u001B[0m\n\u001B[0;32m    168\u001B[0m         \u001B[1;31m# Tüm parçaları birleştir\u001B[0m\u001B[1;33m\u001B[0m\u001B[1;33m\u001B[0m\u001B[0m\n\u001B[1;32m--> 169\u001B[1;33m         \u001B[1;32mif\u001B[0m \u001B[0mdf\u001B[0m\u001B[1;33m:\u001B[0m\u001B[1;33m\u001B[0m\u001B[1;33m\u001B[0m\u001B[0m\n\u001B[0m\u001B[0;32m    170\u001B[0m             \u001B[1;32mreturn\u001B[0m \u001B[0mdf\u001B[0m\u001B[1;33m\u001B[0m\u001B[1;33m\u001B[0m\u001B[0m\n\u001B[0;32m    171\u001B[0m         \u001B[1;32melse\u001B[0m\u001B[1;33m:\u001B[0m\u001B[1;33m\u001B[0m\u001B[1;33m\u001B[0m\u001B[0m\n\u001B[0;32m    172\u001B[0m             \u001B[1;32mreturn\u001B[0m \u001B[0mpd\u001B[0m\u001B[1;33m.\u001B[0m\u001B[0mDataFrame\u001B[0m\u001B[1;33m(\u001B[0m\u001B[1;33m)\u001B[0m  \u001B[1;31m# Eğer hiçbir veri yoksa boş bir DataFrame döndür\u001B[0m\u001B[1;33m\u001B[0m\u001B[1;33m\u001B[0m\u001B[0m\n",
      "\u001B[1;32m~\\ProgrammingForDataEngineering\\learning-from-data-kilowizards\\.venv\\Lib\\site-packages\\pandas\\core\\generic.py\u001B[0m in \u001B[0;36m?\u001B[1;34m(self)\u001B[0m\n\u001B[0;32m   1575\u001B[0m     \u001B[1;33m@\u001B[0m\u001B[0mfinal\u001B[0m\u001B[1;33m\u001B[0m\u001B[1;33m\u001B[0m\u001B[0m\n\u001B[0;32m   1576\u001B[0m     \u001B[1;32mdef\u001B[0m \u001B[0m__nonzero__\u001B[0m\u001B[1;33m(\u001B[0m\u001B[0mself\u001B[0m\u001B[1;33m)\u001B[0m \u001B[1;33m->\u001B[0m \u001B[0mNoReturn\u001B[0m\u001B[1;33m:\u001B[0m\u001B[1;33m\u001B[0m\u001B[1;33m\u001B[0m\u001B[0m\n\u001B[1;32m-> 1577\u001B[1;33m         raise ValueError(\n\u001B[0m\u001B[0;32m   1578\u001B[0m             \u001B[1;33mf\"\u001B[0m\u001B[1;33mThe truth value of a \u001B[0m\u001B[1;33m{\u001B[0m\u001B[0mtype\u001B[0m\u001B[1;33m(\u001B[0m\u001B[0mself\u001B[0m\u001B[1;33m)\u001B[0m\u001B[1;33m.\u001B[0m\u001B[0m__name__\u001B[0m\u001B[1;33m}\u001B[0m\u001B[1;33m is ambiguous. \u001B[0m\u001B[1;33m\"\u001B[0m\u001B[1;33m\u001B[0m\u001B[1;33m\u001B[0m\u001B[0m\n\u001B[0;32m   1579\u001B[0m             \u001B[1;34m\"Use a.empty, a.bool(), a.item(), a.any() or a.all().\"\u001B[0m\u001B[1;33m\u001B[0m\u001B[1;33m\u001B[0m\u001B[0m\n\u001B[0;32m   1580\u001B[0m         \u001B[1;33m)\u001B[0m\u001B[1;33m\u001B[0m\u001B[1;33m\u001B[0m\u001B[0m\n",
      "\u001B[1;31mValueError\u001B[0m: The truth value of a DataFrame is ambiguous. Use a.empty, a.bool(), a.item(), a.any() or a.all()."
     ]
    }
   ],
   "execution_count": 5
  },
  {
   "metadata": {
    "ExecuteTime": {
     "end_time": "2025-01-12T22:17:38.681615900Z",
     "start_time": "2025-01-12T21:20:06.345744Z"
    }
   },
   "cell_type": "code",
   "source": "",
   "id": "dd9f63749c35c5fa",
   "outputs": [],
   "execution_count": null
  }
 ],
 "metadata": {
  "kernelspec": {
   "display_name": "Python 3",
   "language": "python",
   "name": "python3"
  },
  "language_info": {
   "codemirror_mode": {
    "name": "ipython",
    "version": 2
   },
   "file_extension": ".py",
   "mimetype": "text/x-python",
   "name": "python",
   "nbconvert_exporter": "python",
   "pygments_lexer": "ipython2",
   "version": "2.7.6"
  }
 },
 "nbformat": 4,
 "nbformat_minor": 5
}
